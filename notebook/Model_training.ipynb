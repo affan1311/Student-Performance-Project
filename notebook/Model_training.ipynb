{
 "cells": [
  {
   "cell_type": "code",
   "execution_count": 1,
   "id": "4e3288db-20bb-46b0-a6e1-65440d712ff2",
   "metadata": {},
   "outputs": [],
   "source": [
    "import pandas as pd\n",
    "import numpy as np\n",
    "import matplotlib.pyplot as plt\n",
    "import seaborn as sns\n",
    "%matplotlib inline\n",
    "\n",
    "from sklearn.model_selection import train_test_split,RandomizedSearchCV\n",
    "from sklearn.linear_model import LinearRegression,Ridge,Lasso\n",
    "from sklearn.metrics import mean_squared_error,r2_score,mean_absolute_error\n",
    "from sklearn.neighbors import KNeighborsRegressor\n",
    "from sklearn.ensemble import RandomForestRegressor,AdaBoostRegressor\n",
    "from sklearn.svm import SVR\n",
    "from xgboost import XGBRegressor\n",
    "from catboost import CatBoostRegressor\n",
    "from sklearn.tree import DecisionTreeRegressor\n",
    "\n",
    "import warnings\n",
    "warnings.filterwarnings('ignore')"
   ]
  },
  {
   "cell_type": "code",
   "execution_count": 2,
   "id": "b31c6aad-e436-4e4d-849f-a3a05b73983c",
   "metadata": {},
   "outputs": [],
   "source": [
    "df = pd.read_csv('data/final.csv')"
   ]
  },
  {
   "cell_type": "code",
   "execution_count": 3,
   "id": "63ce31bf-17c0-42b0-87ff-2cbd0bfa9c65",
   "metadata": {},
   "outputs": [
    {
     "data": {
      "text/html": [
       "<div>\n",
       "<style scoped>\n",
       "    .dataframe tbody tr th:only-of-type {\n",
       "        vertical-align: middle;\n",
       "    }\n",
       "\n",
       "    .dataframe tbody tr th {\n",
       "        vertical-align: top;\n",
       "    }\n",
       "\n",
       "    .dataframe thead th {\n",
       "        text-align: right;\n",
       "    }\n",
       "</style>\n",
       "<table border=\"1\" class=\"dataframe\">\n",
       "  <thead>\n",
       "    <tr style=\"text-align: right;\">\n",
       "      <th></th>\n",
       "      <th>gender</th>\n",
       "      <th>race/ethnicity</th>\n",
       "      <th>parental level of education</th>\n",
       "      <th>lunch</th>\n",
       "      <th>test preparation course</th>\n",
       "      <th>math score</th>\n",
       "      <th>reading score</th>\n",
       "      <th>writing score</th>\n",
       "      <th>total_score</th>\n",
       "      <th>average</th>\n",
       "    </tr>\n",
       "  </thead>\n",
       "  <tbody>\n",
       "    <tr>\n",
       "      <th>0</th>\n",
       "      <td>female</td>\n",
       "      <td>group B</td>\n",
       "      <td>bachelor's degree</td>\n",
       "      <td>standard</td>\n",
       "      <td>none</td>\n",
       "      <td>72</td>\n",
       "      <td>72</td>\n",
       "      <td>74</td>\n",
       "      <td>218</td>\n",
       "      <td>72.666667</td>\n",
       "    </tr>\n",
       "    <tr>\n",
       "      <th>1</th>\n",
       "      <td>female</td>\n",
       "      <td>group C</td>\n",
       "      <td>some college</td>\n",
       "      <td>standard</td>\n",
       "      <td>completed</td>\n",
       "      <td>69</td>\n",
       "      <td>90</td>\n",
       "      <td>88</td>\n",
       "      <td>247</td>\n",
       "      <td>82.333333</td>\n",
       "    </tr>\n",
       "    <tr>\n",
       "      <th>2</th>\n",
       "      <td>female</td>\n",
       "      <td>group B</td>\n",
       "      <td>master's degree</td>\n",
       "      <td>standard</td>\n",
       "      <td>none</td>\n",
       "      <td>90</td>\n",
       "      <td>95</td>\n",
       "      <td>93</td>\n",
       "      <td>278</td>\n",
       "      <td>92.666667</td>\n",
       "    </tr>\n",
       "    <tr>\n",
       "      <th>3</th>\n",
       "      <td>male</td>\n",
       "      <td>group A</td>\n",
       "      <td>associate's degree</td>\n",
       "      <td>free/reduced</td>\n",
       "      <td>none</td>\n",
       "      <td>47</td>\n",
       "      <td>57</td>\n",
       "      <td>44</td>\n",
       "      <td>148</td>\n",
       "      <td>49.333333</td>\n",
       "    </tr>\n",
       "    <tr>\n",
       "      <th>4</th>\n",
       "      <td>male</td>\n",
       "      <td>group C</td>\n",
       "      <td>some college</td>\n",
       "      <td>standard</td>\n",
       "      <td>none</td>\n",
       "      <td>76</td>\n",
       "      <td>78</td>\n",
       "      <td>75</td>\n",
       "      <td>229</td>\n",
       "      <td>76.333333</td>\n",
       "    </tr>\n",
       "  </tbody>\n",
       "</table>\n",
       "</div>"
      ],
      "text/plain": [
       "   gender race/ethnicity parental level of education         lunch  \\\n",
       "0  female        group B           bachelor's degree      standard   \n",
       "1  female        group C                some college      standard   \n",
       "2  female        group B             master's degree      standard   \n",
       "3    male        group A          associate's degree  free/reduced   \n",
       "4    male        group C                some college      standard   \n",
       "\n",
       "  test preparation course  math score  reading score  writing score  \\\n",
       "0                    none          72             72             74   \n",
       "1               completed          69             90             88   \n",
       "2                    none          90             95             93   \n",
       "3                    none          47             57             44   \n",
       "4                    none          76             78             75   \n",
       "\n",
       "   total_score    average  \n",
       "0          218  72.666667  \n",
       "1          247  82.333333  \n",
       "2          278  92.666667  \n",
       "3          148  49.333333  \n",
       "4          229  76.333333  "
      ]
     },
     "execution_count": 3,
     "metadata": {},
     "output_type": "execute_result"
    }
   ],
   "source": [
    "df.head()"
   ]
  },
  {
   "cell_type": "code",
   "execution_count": 4,
   "id": "3d4c15ad-142b-42ae-b4f3-92e25d73c46a",
   "metadata": {},
   "outputs": [],
   "source": [
    "X = df.drop('average',axis=1)\n",
    "y= df['average']"
   ]
  },
  {
   "cell_type": "code",
   "execution_count": 5,
   "id": "c2eb73c4-1f1b-4f54-86f6-963ac4e6d159",
   "metadata": {},
   "outputs": [
    {
     "data": {
      "text/html": [
       "<div>\n",
       "<style scoped>\n",
       "    .dataframe tbody tr th:only-of-type {\n",
       "        vertical-align: middle;\n",
       "    }\n",
       "\n",
       "    .dataframe tbody tr th {\n",
       "        vertical-align: top;\n",
       "    }\n",
       "\n",
       "    .dataframe thead th {\n",
       "        text-align: right;\n",
       "    }\n",
       "</style>\n",
       "<table border=\"1\" class=\"dataframe\">\n",
       "  <thead>\n",
       "    <tr style=\"text-align: right;\">\n",
       "      <th></th>\n",
       "      <th>gender</th>\n",
       "      <th>race/ethnicity</th>\n",
       "      <th>parental level of education</th>\n",
       "      <th>lunch</th>\n",
       "      <th>test preparation course</th>\n",
       "      <th>math score</th>\n",
       "      <th>reading score</th>\n",
       "      <th>writing score</th>\n",
       "      <th>total_score</th>\n",
       "    </tr>\n",
       "  </thead>\n",
       "  <tbody>\n",
       "    <tr>\n",
       "      <th>0</th>\n",
       "      <td>female</td>\n",
       "      <td>group B</td>\n",
       "      <td>bachelor's degree</td>\n",
       "      <td>standard</td>\n",
       "      <td>none</td>\n",
       "      <td>72</td>\n",
       "      <td>72</td>\n",
       "      <td>74</td>\n",
       "      <td>218</td>\n",
       "    </tr>\n",
       "    <tr>\n",
       "      <th>1</th>\n",
       "      <td>female</td>\n",
       "      <td>group C</td>\n",
       "      <td>some college</td>\n",
       "      <td>standard</td>\n",
       "      <td>completed</td>\n",
       "      <td>69</td>\n",
       "      <td>90</td>\n",
       "      <td>88</td>\n",
       "      <td>247</td>\n",
       "    </tr>\n",
       "    <tr>\n",
       "      <th>2</th>\n",
       "      <td>female</td>\n",
       "      <td>group B</td>\n",
       "      <td>master's degree</td>\n",
       "      <td>standard</td>\n",
       "      <td>none</td>\n",
       "      <td>90</td>\n",
       "      <td>95</td>\n",
       "      <td>93</td>\n",
       "      <td>278</td>\n",
       "    </tr>\n",
       "    <tr>\n",
       "      <th>3</th>\n",
       "      <td>male</td>\n",
       "      <td>group A</td>\n",
       "      <td>associate's degree</td>\n",
       "      <td>free/reduced</td>\n",
       "      <td>none</td>\n",
       "      <td>47</td>\n",
       "      <td>57</td>\n",
       "      <td>44</td>\n",
       "      <td>148</td>\n",
       "    </tr>\n",
       "    <tr>\n",
       "      <th>4</th>\n",
       "      <td>male</td>\n",
       "      <td>group C</td>\n",
       "      <td>some college</td>\n",
       "      <td>standard</td>\n",
       "      <td>none</td>\n",
       "      <td>76</td>\n",
       "      <td>78</td>\n",
       "      <td>75</td>\n",
       "      <td>229</td>\n",
       "    </tr>\n",
       "  </tbody>\n",
       "</table>\n",
       "</div>"
      ],
      "text/plain": [
       "   gender race/ethnicity parental level of education         lunch  \\\n",
       "0  female        group B           bachelor's degree      standard   \n",
       "1  female        group C                some college      standard   \n",
       "2  female        group B             master's degree      standard   \n",
       "3    male        group A          associate's degree  free/reduced   \n",
       "4    male        group C                some college      standard   \n",
       "\n",
       "  test preparation course  math score  reading score  writing score  \\\n",
       "0                    none          72             72             74   \n",
       "1               completed          69             90             88   \n",
       "2                    none          90             95             93   \n",
       "3                    none          47             57             44   \n",
       "4                    none          76             78             75   \n",
       "\n",
       "   total_score  \n",
       "0          218  \n",
       "1          247  \n",
       "2          278  \n",
       "3          148  \n",
       "4          229  "
      ]
     },
     "execution_count": 5,
     "metadata": {},
     "output_type": "execute_result"
    }
   ],
   "source": [
    "X.head()"
   ]
  },
  {
   "cell_type": "code",
   "execution_count": 6,
   "id": "98af7eee-8d1f-4d1e-bfbd-2bc0e648974b",
   "metadata": {},
   "outputs": [],
   "source": [
    "num_cols = X.select_dtypes(exclude='object').columns\n",
    "cat_cols = X.select_dtypes(include='object').columns\n"
   ]
  },
  {
   "cell_type": "code",
   "execution_count": 7,
   "id": "aee675b0-7632-4772-9dda-26e37463b89f",
   "metadata": {},
   "outputs": [],
   "source": [
    "from sklearn.preprocessing import StandardScaler,OneHotEncoder\n",
    "from sklearn.compose import ColumnTransformer\n"
   ]
  },
  {
   "cell_type": "code",
   "execution_count": 8,
   "id": "d237a325-1cfb-4645-a98a-ced86dd5cfd4",
   "metadata": {},
   "outputs": [
    {
     "data": {
      "text/plain": [
       "Index(['gender', 'race/ethnicity', 'parental level of education', 'lunch',\n",
       "       'test preparation course'],\n",
       "      dtype='object')"
      ]
     },
     "execution_count": 8,
     "metadata": {},
     "output_type": "execute_result"
    }
   ],
   "source": [
    "cat_cols"
   ]
  },
  {
   "cell_type": "code",
   "execution_count": 9,
   "id": "b09175ca-d244-4590-b983-f675cabb8af0",
   "metadata": {},
   "outputs": [],
   "source": [
    "ohe = OneHotEncoder()\n",
    "scaler = StandardScaler()\n",
    "\n",
    "preprocessor= ColumnTransformer(\n",
    "    [\n",
    "    ('OneHotEncoder',ohe,cat_cols),\n",
    "    ('StandardScaler',scaler,num_cols)\n",
    "    ]\n",
    ")"
   ]
  },
  {
   "cell_type": "code",
   "execution_count": 10,
   "id": "367a8b2c-7b35-4821-b661-92f582d56a74",
   "metadata": {},
   "outputs": [],
   "source": [
    "X = preprocessor.fit_transform(X)"
   ]
  },
  {
   "cell_type": "code",
   "execution_count": 11,
   "id": "52be501c-8054-42a9-a14c-9ec6f34d5fb1",
   "metadata": {},
   "outputs": [
    {
     "data": {
      "text/plain": [
       "(1000, 21)"
      ]
     },
     "execution_count": 11,
     "metadata": {},
     "output_type": "execute_result"
    }
   ],
   "source": [
    "X.shape"
   ]
  },
  {
   "cell_type": "code",
   "execution_count": 12,
   "id": "a758223b",
   "metadata": {},
   "outputs": [
    {
     "data": {
      "text/plain": [
       "((800, 21), (200, 21), (800,), (200,))"
      ]
     },
     "execution_count": 12,
     "metadata": {},
     "output_type": "execute_result"
    }
   ],
   "source": [
    "X_train,X_test,y_train,y_test = train_test_split(X,y,test_size=0.2,random_state=42)\n",
    "X_train.shape, X_test.shape, y_train.shape, y_test.shape    "
   ]
  },
  {
   "cell_type": "code",
   "execution_count": 13,
   "id": "7a6690f8",
   "metadata": {},
   "outputs": [],
   "source": [
    "def evaluate_model(true,predicted):\n",
    "    mae = mean_absolute_error(true,predicted)\n",
    "    mse = mean_squared_error(true,predicted)\n",
    "    rmse = np.sqrt(mse)\n",
    "    r2_square = r2_score(true,predicted)\n",
    "    return mae,rmse,r2_square"
   ]
  },
  {
   "cell_type": "code",
   "execution_count": 14,
   "id": "34b51d6e",
   "metadata": {},
   "outputs": [],
   "source": [
    "models = {\n",
    "    'Linear Regression': LinearRegression(),\n",
    "    'Decision Tree': DecisionTreeRegressor(),\n",
    "    'Random Forest': RandomForestRegressor(),\n",
    "    'XGBoost': XGBRegressor(),\n",
    "    'CatBoost': CatBoostRegressor(verbose=False),\n",
    "    'AdaBoost': AdaBoostRegressor(),\n",
    "    'SVR': SVR(),\n",
    "    'KNN': KNeighborsRegressor()\n",
    "}"
   ]
  },
  {
   "cell_type": "code",
   "execution_count": 15,
   "id": "7a4e6835",
   "metadata": {},
   "outputs": [
    {
     "name": "stdout",
     "output_type": "stream",
     "text": [
      "Model: Linear Regression\n",
      "Model Performance on Training Set\n",
      "------------------------------\n",
      "MAE: 1.106226221736506e-14\n",
      "RMSE: 1.3800246365136264e-14\n",
      "R2 Score: 1.0\n",
      "\n",
      "\n",
      "Model Performance on Test Set\n",
      "------------------------------\n",
      "MAE: 1.120881165661558e-14\n",
      "RMSE: 1.3697542761304505e-14\n",
      "R2 Score: 1.0\n",
      "==================================================\n",
      "\n",
      "\n",
      "Model: Decision Tree\n",
      "Model Performance on Training Set\n",
      "------------------------------\n",
      "MAE: 9.414691248821328e-16\n",
      "RMSE: 3.4261129972154534e-15\n",
      "R2 Score: 1.0\n",
      "\n",
      "\n",
      "Model Performance on Test Set\n",
      "------------------------------\n",
      "MAE: 0.08333333333333341\n",
      "RMSE: 0.6724747000610666\n",
      "R2 Score: 0.9978904255954921\n",
      "==================================================\n",
      "\n",
      "\n",
      "Model: Random Forest\n",
      "Model Performance on Training Set\n",
      "------------------------------\n",
      "MAE: 0.02473750000001191\n",
      "RMSE: 0.1141052754647603\n",
      "R2 Score: 0.9999347202278094\n",
      "\n",
      "\n",
      "Model Performance on Test Set\n",
      "------------------------------\n",
      "MAE: 0.11566666666666445\n",
      "RMSE: 0.926793276722364\n",
      "R2 Score: 0.9959930982189336\n",
      "==================================================\n",
      "\n",
      "\n",
      "Model: XGBoost\n",
      "Model Performance on Training Set\n",
      "------------------------------\n",
      "MAE: 0.00834454139073665\n",
      "RMSE: 0.012228918271708097\n",
      "R2 Score: 0.9999992502037436\n",
      "\n",
      "\n",
      "Model Performance on Test Set\n",
      "------------------------------\n",
      "MAE: 0.17592489878336515\n",
      "RMSE: 0.7421173102971583\n",
      "R2 Score: 0.9974308582219397\n",
      "==================================================\n",
      "\n",
      "\n",
      "Model: CatBoost\n",
      "Model Performance on Training Set\n",
      "------------------------------\n",
      "MAE: 0.10355608015555759\n",
      "RMSE: 0.12845964266894397\n",
      "R2 Score: 0.9999172628414298\n",
      "\n",
      "\n",
      "Model Performance on Test Set\n",
      "------------------------------\n",
      "MAE: 0.31375647825842967\n",
      "RMSE: 1.0392823921202687\n",
      "R2 Score: 0.9949613976313257\n",
      "==================================================\n",
      "\n",
      "\n",
      "Model: AdaBoost\n",
      "Model Performance on Training Set\n",
      "------------------------------\n",
      "MAE: 0.7461965259407657\n",
      "RMSE: 0.9300068955710922\n",
      "R2 Score: 0.9956634983099497\n",
      "\n",
      "\n",
      "Model Performance on Test Set\n",
      "------------------------------\n",
      "MAE: 0.8174123278786988\n",
      "RMSE: 1.2561477700007018\n",
      "R2 Score: 0.9926392102807182\n",
      "==================================================\n",
      "\n",
      "\n",
      "Model: SVR\n",
      "Model Performance on Training Set\n",
      "------------------------------\n",
      "MAE: 0.8175066844989388\n",
      "RMSE: 2.885642152136105\n",
      "R2 Score: 0.9582504182234561\n",
      "\n",
      "\n",
      "Model Performance on Test Set\n",
      "------------------------------\n",
      "MAE: 1.3404991677059803\n",
      "RMSE: 5.43466711784252\n",
      "R2 Score: 0.8622191550621526\n",
      "==================================================\n",
      "\n",
      "\n",
      "Model: KNN\n",
      "Model Performance on Training Set\n",
      "------------------------------\n",
      "MAE: 1.557000000000001\n",
      "RMSE: 1.9816014847704486\n",
      "R2 Score: 0.9803120806957789\n",
      "\n",
      "\n",
      "Model Performance on Test Set\n",
      "------------------------------\n",
      "MAE: 1.9229999999999996\n",
      "RMSE: 2.6660874370924565\n",
      "R2 Score: 0.9668417406093228\n",
      "==================================================\n",
      "\n",
      "\n"
     ]
    }
   ],
   "source": [
    "model_list=[]\n",
    "r2_list=[]\n",
    "\n",
    "for i in range(len(list(models))):\n",
    "    model=list(models.values())[i]\n",
    "    model.fit(X_train,y_train)\n",
    "\n",
    "    y_train_pred = model.predict(X_train)\n",
    "    y_test_pred = model.predict(X_test)\n",
    "\n",
    "    train_mae,train_rmse,train_r2 = evaluate_model(y_train,y_train_pred)\n",
    "    test_mae,test_rmse,test_r2 = evaluate_model(y_test,y_test_pred)\n",
    "\n",
    "    print(f\"Model: {list(models.keys())[i]}\")\n",
    "    model_list.append(list(models.keys())[i])\n",
    "\n",
    "    print('Model Performance on Training Set')\n",
    "    print('-'*30)\n",
    "    print(f\"MAE: {train_mae}\")\n",
    "    print(f'RMSE: {train_rmse}')\n",
    "    print(f'R2 Score: {train_r2}')\n",
    "    print('\\n')\n",
    "\n",
    "    print('Model Performance on Test Set')\n",
    "    print('-'*30)\n",
    "    print(f\"MAE: {test_mae}\")\n",
    "    print(f'RMSE: {test_rmse}')\n",
    "    print(f'R2 Score: {test_r2}')\n",
    "    r2_list.append(test_r2)\n",
    "\n",
    "    print('='*50)\n",
    "    print('\\n')"
   ]
  },
  {
   "cell_type": "code",
   "execution_count": 16,
   "id": "c6ec6902",
   "metadata": {},
   "outputs": [
    {
     "data": {
      "text/html": [
       "<div>\n",
       "<style scoped>\n",
       "    .dataframe tbody tr th:only-of-type {\n",
       "        vertical-align: middle;\n",
       "    }\n",
       "\n",
       "    .dataframe tbody tr th {\n",
       "        vertical-align: top;\n",
       "    }\n",
       "\n",
       "    .dataframe thead th {\n",
       "        text-align: right;\n",
       "    }\n",
       "</style>\n",
       "<table border=\"1\" class=\"dataframe\">\n",
       "  <thead>\n",
       "    <tr style=\"text-align: right;\">\n",
       "      <th></th>\n",
       "      <th>Model</th>\n",
       "      <th>R2_Score</th>\n",
       "    </tr>\n",
       "  </thead>\n",
       "  <tbody>\n",
       "    <tr>\n",
       "      <th>0</th>\n",
       "      <td>Linear Regression</td>\n",
       "      <td>1.000000</td>\n",
       "    </tr>\n",
       "    <tr>\n",
       "      <th>1</th>\n",
       "      <td>Decision Tree</td>\n",
       "      <td>0.997890</td>\n",
       "    </tr>\n",
       "    <tr>\n",
       "      <th>3</th>\n",
       "      <td>XGBoost</td>\n",
       "      <td>0.997431</td>\n",
       "    </tr>\n",
       "    <tr>\n",
       "      <th>2</th>\n",
       "      <td>Random Forest</td>\n",
       "      <td>0.995993</td>\n",
       "    </tr>\n",
       "    <tr>\n",
       "      <th>4</th>\n",
       "      <td>CatBoost</td>\n",
       "      <td>0.994961</td>\n",
       "    </tr>\n",
       "    <tr>\n",
       "      <th>5</th>\n",
       "      <td>AdaBoost</td>\n",
       "      <td>0.992639</td>\n",
       "    </tr>\n",
       "    <tr>\n",
       "      <th>7</th>\n",
       "      <td>KNN</td>\n",
       "      <td>0.966842</td>\n",
       "    </tr>\n",
       "    <tr>\n",
       "      <th>6</th>\n",
       "      <td>SVR</td>\n",
       "      <td>0.862219</td>\n",
       "    </tr>\n",
       "  </tbody>\n",
       "</table>\n",
       "</div>"
      ],
      "text/plain": [
       "               Model  R2_Score\n",
       "0  Linear Regression  1.000000\n",
       "1      Decision Tree  0.997890\n",
       "3            XGBoost  0.997431\n",
       "2      Random Forest  0.995993\n",
       "4           CatBoost  0.994961\n",
       "5           AdaBoost  0.992639\n",
       "7                KNN  0.966842\n",
       "6                SVR  0.862219"
      ]
     },
     "execution_count": 16,
     "metadata": {},
     "output_type": "execute_result"
    }
   ],
   "source": [
    "pd.DataFrame({'Model':model_list,'R2_Score':r2_list}).sort_values(by='R2_Score',ascending=False)"
   ]
  },
  {
   "cell_type": "code",
   "execution_count": 19,
   "id": "45e5b633",
   "metadata": {},
   "outputs": [
    {
     "name": "stdout",
     "output_type": "stream",
     "text": [
      "Accuracy of the model is: 99.78%\n"
     ]
    }
   ],
   "source": [
    "Dt = DecisionTreeRegressor()\n",
    "Dt.fit(X_train,y_train)    \n",
    "y_pred = Dt.predict(X_test)\n",
    "accuracy = r2_score(y_test,y_pred)\n",
    "print(f'Accuracy of the model is: {accuracy*100:.2f}%')"
   ]
  },
  {
   "cell_type": "code",
   "execution_count": 20,
   "id": "b3332879",
   "metadata": {},
   "outputs": [
    {
     "data": {
      "text/plain": [
       "Text(0, 0.5, 'Predicted Values')"
      ]
     },
     "execution_count": 20,
     "metadata": {},
     "output_type": "execute_result"
    },
    {
     "data": {
      "image/png": "[encoded data removed]",
      "text/plain": [
       "<Figure size 640x480 with 1 Axes>"
      ]
     },
     "metadata": {},
     "output_type": "display_data"
    }
   ],
   "source": [
    "plt.scatter(y_test,y_pred)\n",
    "plt.xlabel('Actual Values')\n",
    "plt.ylabel('Predicted Values')"
   ]
  },
  {
   "cell_type": "code",
   "execution_count": null,
   "id": "60b9de1c",
   "metadata": {},
   "outputs": [],
   "source": []
  }
 ],
 "metadata": {
  "kernelspec": {
   "display_name": "venv (3.13.3)",
   "language": "python",
   "name": "python3"
  },
  "language_info": {
   "codemirror_mode": {
    "name": "ipython",
    "version": 3
   },
   "file_extension": ".py",
   "mimetype": "text/x-python",
   "name": "python",
   "nbconvert_exporter": "python",
   "pygments_lexer": "ipython3",
   "version": "3.13.3"
  }
 },
 "nbformat": 4,
 "nbformat_minor": 5
}
